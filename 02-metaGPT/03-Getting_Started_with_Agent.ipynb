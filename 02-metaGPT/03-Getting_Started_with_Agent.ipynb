{
 "cells": [
  {
   "cell_type": "code",
   "execution_count": 6,
   "metadata": {},
   "outputs": [],
   "source": [
    "import re\n",
    "import subprocess\n",
    "import asyncio\n",
    "\n",
    "from metagpt.actions import Action\n",
    "from metagpt.roles.role import Role, RoleReactMode\n",
    "from metagpt.schema import Message\n",
    "from metagpt.logs import logger"
   ]
  },
  {
   "cell_type": "markdown",
   "metadata": {},
   "source": [
    "# 使用现成的智能体"
   ]
  },
  {
   "cell_type": "code",
   "execution_count": 2,
   "metadata": {},
   "outputs": [
    {
     "name": "stderr",
     "output_type": "stream",
     "text": [
      "2025-03-06 22:00:16.171 | INFO     | metagpt.roles.role:_act:391 - Alice(Product Manager): to do PrepareDocuments(PrepareDocuments)\n",
      "2025-03-06 22:00:16.474 | INFO     | metagpt.utils.file_repository:save:57 - save to: C:\\Users\\zata\\Desktop\\wow\\02-metaGPT\\workspace\\20250306220016\\docs\\requirement.txt\n",
      "2025-03-06 22:00:16.475 | INFO     | __main__:main:14 - Alice(Product Manager): {'root_path': 'docs', 'filename': 'requirement.txt', 'content': 'Write a PRD for a snake game'}\n",
      "2025-03-06 22:00:16.477 | INFO     | metagpt.roles.role:_act:391 - Alice(Product Manager): to do WritePRD(WritePRD)\n",
      "2025-03-06 22:00:16.481 | INFO     | metagpt.actions.write_prd:run:86 - New requirement detected: Write a PRD for a snake game\n"
     ]
    },
    {
     "name": "stdout",
     "output_type": "stream",
     "text": [
      "[CONTENT]\n",
      "{\n",
      "    \"Language\": \"en_us\",\n",
      "    \"Programming Language\": \"Python\",\n",
      "    \"Original Requirements\": \"Write a PRD for a snake game\",\n",
      "    \"Project Name\": \"snake_game\",\n",
      "    \"Product Goals\": [\n",
      "        \"Develop an intuitive and engaging gameplay experience\",\n",
      "        \"Ensure the game is accessible and responsive across devices\",\n",
      "        \"Implement a high-quality, visually appealing user interface\"\n",
      "    ],\n",
      "    \"User Stories\": [\n",
      "        \"As a player, I want to easily navigate the game controls to play the snake game\",\n",
      "        \"As a player, I want to see my score and high scores displayed prominently\",\n",
      "        \"As a player, I want the ability to pause and resume the game at any time\",\n",
      "        \"As a player, I want to have the option to restart the game from the beginning\",\n",
      "        \"As a player, I want the game to be visually appealing with smooth animations\"\n",
      "    ],\n",
      "    \"Competitive Analysis\": [\n",
      "        \"Snake Game A: Basic gameplay, lacks advanced features and graphics\",\n",
      "        \"Snake Game B: Offers a variety of levels and power-ups, but has a less intuitive interface\",\n",
      "        \"Snake Game C: High-quality graphics and smooth animations, but limited gameplay options\"\n",
      "    ],\n",
      "    \"Competitive Quadrant Chart\": \"quadrantChart\\n    title \\\"Performance and User Engagement\\\"\\n    x-axis \\\"Low Performance\\\" --> \\\"High Performance\\\"\\n    y-axis \\\"Low Engagement\\\" --> \\\"High Engagement\\\"\\n    quadrant-1 \\\"We should expand\\\"\\n    quadrant-2 \\\"Need to promote\\\"\\n    quadrant-3 \\\"Re-evaluate\\\"\\n    quadrant-4 \\\"May be improved\\\"\\n    \\\"Game A\\\": [0.2, 0.5]\\n    \\\"Game B\\\": [0.4, 0.7]\\n    \\\"Game C\\\": [0.6, 0.8]\\n    \\\"Our Target Product\\\": [0.5, 0.9]\",\n",
      "    \"Requirement Analysis\": \"The snake game should be designed to be easy to learn and play, with a focus on providing a fun and engaging experience. The game should be responsive and accessible on various devices, including mobile phones and tablets. The user interface should be visually appealing and intuitive, with clear instructions and feedback.\",\n",
      "    \"Requirement Pool\": [\n",
      "        [\n",
      "            \"P0\",\n",
      "            \"Implement the core gameplay mechanics of the snake game\"\n",
      "        ],\n",
      "        [\n",
      "            \"P0\",\n",
      "            \"Design and implement a responsive and accessible user interface\"\n",
      "        ],\n",
      "        [\n",
      "            \"P1\",\n",
      "            \"Implement a scoring system and display high scores\"\n",
      "        ],\n",
      "        [\n",
      "            \"P1\",\n",
      "            \"Add features such as power-ups and different game modes\"\n",
      "        ],\n",
      "        [\n",
      "            \"P2\",\n",
      "            \"Optimize the game for performance across different devices\"\n",
      "        ]\n",
      "    ],\n",
      "    \"UI Design draft\": \"The UI should include a game board, score display, and control buttons. The game board should be a grid of cells, with the snake represented by a series of connected blocks. The score display should be prominently placed at the top of the screen. Control buttons should be easy to access and intuitive to use.\",\n",
      "    \"Anything UNCLEAR\": \"It is unclear whether the game should support multiplayer functionality or if there are any specific design requirements for the user interface"
     ]
    },
    {
     "name": "stderr",
     "output_type": "stream",
     "text": [
      "2025-03-06 22:00:37.888 | WARNING  | metagpt.utils.cost_manager:update_cost:49 - Model glm-4-flash not found in TOKEN_COSTS.\n"
     ]
    },
    {
     "name": "stdout",
     "output_type": "stream",
     "text": [
      ".\"\n",
      "}\n",
      "[/CONTENT]\n"
     ]
    },
    {
     "name": "stderr",
     "output_type": "stream",
     "text": [
      "2025-03-06 22:00:37.994 | WARNING  | metagpt.utils.git_repository:rename_root:214 - Move C:\\Users\\zata\\Desktop\\wow\\02-metaGPT\\workspace\\20250306220016 to C:\\Users\\zata\\Desktop\\wow\\02-metaGPT\\workspace\\snake_game error: [WinError 32] The process cannot access the file because it is being used by another process: 'C:\\\\Users\\\\zata\\\\Desktop\\\\wow\\\\02-metaGPT\\\\workspace\\\\20250306220016'\n",
      "2025-03-06 22:00:37.996 | INFO     | metagpt.utils.git_repository:rename_root:219 - Rename directory C:\\Users\\zata\\Desktop\\wow\\02-metaGPT\\workspace\\20250306220016 to C:\\Users\\zata\\Desktop\\wow\\02-metaGPT\\workspace\\snake_game\n",
      "2025-03-06 22:00:38.004 | INFO     | metagpt.utils.file_repository:save:57 - save to: C:\\Users\\zata\\Desktop\\wow\\02-metaGPT\\workspace\\snake_game\\docs\\prd\\20250306220038.json\n",
      "2025-03-06 22:00:38.106 | WARNING  | metagpt.utils.mermaid:mermaid_to_file:35 - RUN `npm install -g @mermaid-js/mermaid-cli` to install mmdc,or consider changing engine to `playwright`, `pyppeteer`, or `ink`.\n",
      "2025-03-06 22:00:38.111 | INFO     | metagpt.utils.file_repository:save:57 - save to: C:\\Users\\zata\\Desktop\\wow\\02-metaGPT\\workspace\\snake_game\\resources\\prd\\20250306220038.md\n",
      "2025-03-06 22:00:38.113 | INFO     | __main__:main:14 - Alice(Product Manager): {'docs': {'20250306220038.json': {'root_path': 'docs\\\\prd', 'filename': '20250306220038.json', 'content': '{\"Language\":\"en_us\",\"Programming Language\":\"Python\",\"Original Requirements\":\"Write a PRD for a snake game\",\"Project Name\":\"snake_game\",\"Product Goals\":[\"Develop an intuitive and engaging gameplay experience\",\"Ensure the game is accessible and responsive across devices\",\"Implement a high-quality, visually appealing user interface\"],\"User Stories\":[\"As a player, I want to easily navigate the game controls to play the snake game\",\"As a player, I want to see my score and high scores displayed prominently\",\"As a player, I want the ability to pause and resume the game at any time\",\"As a player, I want to have the option to restart the game from the beginning\",\"As a player, I want the game to be visually appealing with smooth animations\"],\"Competitive Analysis\":[\"Snake Game A: Basic gameplay, lacks advanced features and graphics\",\"Snake Game B: Offers a variety of levels and power-ups, but has a less intuitive interface\",\"Snake Game C: High-quality graphics and smooth animations, but limited gameplay options\"],\"Competitive Quadrant Chart\":\"quadrantChart\\\\n    title \\\\\"Performance and User Engagement\\\\\"\\\\n    x-axis \\\\\"Low Performance\\\\\" --> \\\\\"High Performance\\\\\"\\\\n    y-axis \\\\\"Low Engagement\\\\\" --> \\\\\"High Engagement\\\\\"\\\\n    quadrant-1 \\\\\"We should expand\\\\\"\\\\n    quadrant-2 \\\\\"Need to promote\\\\\"\\\\n    quadrant-3 \\\\\"Re-evaluate\\\\\"\\\\n    quadrant-4 \\\\\"May be improved\\\\\"\\\\n    \\\\\"Game A\\\\\": [0.2, 0.5]\\\\n    \\\\\"Game B\\\\\": [0.4, 0.7]\\\\n    \\\\\"Game C\\\\\": [0.6, 0.8]\\\\n    \\\\\"Our Target Product\\\\\": [0.5, 0.9]\",\"Requirement Analysis\":\"The snake game should be designed to be easy to learn and play, with a focus on providing a fun and engaging experience. The game should be responsive and accessible on various devices, including mobile phones and tablets. The user interface should be visually appealing and intuitive, with clear instructions and feedback.\",\"Requirement Pool\":[[\"P0\",\"Implement the core gameplay mechanics of the snake game\"],[\"P0\",\"Design and implement a responsive and accessible user interface\"],[\"P1\",\"Implement a scoring system and display high scores\"],[\"P1\",\"Add features such as power-ups and different game modes\"],[\"P2\",\"Optimize the game for performance across different devices\"]],\"UI Design draft\":\"The UI should include a game board, score display, and control buttons. The game board should be a grid of cells, with the snake represented by a series of connected blocks. The score display should be prominently placed at the top of the screen. Control buttons should be easy to access and intuitive to use.\",\"Anything UNCLEAR\":\"It is unclear whether the game should support multiplayer functionality or if there are any specific design requirements for the user interface.\"}'}}}\n",
      "2025-03-06 22:00:38.116 | INFO     | __main__:main:14 - None\n"
     ]
    }
   ],
   "source": [
    "# 可导入任何角色，初始化它，用一个开始的消息运行它，完成！\n",
    "import asyncio\n",
    "\n",
    "from metagpt.context import Context\n",
    "from metagpt.roles.product_manager import ProductManager\n",
    "from metagpt.logs import logger\n",
    "\n",
    "async def main():\n",
    "    msg = \"Write a PRD for a snake game\"\n",
    "    context = Context()  # 显式创建会话Context对象，Role对象会隐式的自动将它共享给自己的Action对象\n",
    "    role = ProductManager(context=context)\n",
    "    while msg:\n",
    "        msg = await role.run(msg)\n",
    "        logger.info(str(msg))\n",
    "\n",
    "if __name__ == '__main__':\n",
    "    # asyncio.run(main())\n",
    "    await main()"
   ]
  },
  {
   "cell_type": "markdown",
   "metadata": {},
   "source": [
    "# 具有单一动作的智能体"
   ]
  },
  {
   "cell_type": "markdown",
   "metadata": {},
   "source": [
    "## 定义动作"
   ]
  },
  {
   "cell_type": "code",
   "execution_count": 7,
   "metadata": {},
   "outputs": [],
   "source": [
    "\n",
    "\n",
    "import re\n",
    "from metagpt.actions import Action\n",
    "# Action是动作的逻辑抽象。用户可以通过简单地调用 self._aask 函数令 LLM 赋予这个动作能力，即这个函数将在底层调用 LLM api。\n",
    "# 因此可以通过from metagpt.actions import Action 来测试config.yaml是否配置成功\n",
    "\n",
    "class SimpleWriteCode(Action):\n",
    "\n",
    "    # 使用 PROMPT_TEMPLATE 来定义一个动作，这个动作是一个函数，这个函数会调用 LLM api，并且返回一个字符串。\n",
    "    PROMPT_TEMPLATE: str = \"\"\"\n",
    "    Write a python function that can {instruction} and provide two runnnable test cases.\n",
    "    Return ```python your_code_here ``` with NO other texts,\n",
    "    your code:\n",
    "    \"\"\"\n",
    "\n",
    "    name: str = \"SimpleWriteCode\"\n",
    "\n",
    "    async def run(self, instruction: str):\n",
    "        prompt = self.PROMPT_TEMPLATE.format(instruction=instruction)\n",
    "\n",
    "        rsp = await self._aask(prompt)\n",
    "\n",
    "        code_text = SimpleWriteCode.parse_code(rsp)\n",
    "\n",
    "        return code_text\n",
    "\n",
    "    @staticmethod\n",
    "    def parse_code(rsp):\n",
    "        pattern = r\"```python(.*)```\"\n",
    "        match = re.search(pattern, rsp, re.DOTALL)\n",
    "        code_text = match.group(1) if match else rsp\n",
    "        return code_text"
   ]
  },
  {
   "cell_type": "markdown",
   "metadata": {},
   "source": [
    "## 定义角色"
   ]
  },
  {
   "cell_type": "code",
   "execution_count": 12,
   "metadata": {},
   "outputs": [],
   "source": [
    "from metagpt.roles import Role\n",
    "\n",
    "# Role 类是智能体的逻辑抽象。一个 Role 能执行特定的 Action，拥有记忆、思考并采用各种策略行动。基本上，它充当一个将所有这些组件联系在一起的凝聚实体。目前，让我们只关注一个执行动作的智能体，并看看如何定义一个最简单的 Role。\n",
    "        \n",
    "\n",
    "# 创建一个simpleCoder角色\n",
    "class SimpleCoder(Role):\n",
    "    \n",
    "    # 定义角色的名字和描述\n",
    "    name: str = \"Alice\"\n",
    "    profile: str = \"SimpleCoder\"\n",
    "\n",
    "    # 初始化\n",
    "    def __init__(self, **kwargs):\n",
    "        super().__init__(**kwargs)\n",
    "        # 配备对应的动作\n",
    "        self.set_actions([SimpleWriteCode])\n",
    "\n",
    "\n",
    "    # 重写_act，其中包含智能体具体行动逻辑。我们写入，我们的智能体将从最新的记忆中获取人类指令，运行配备的动作，MetaGPT将其作为待办事项 (self.rc.todo) 在幕后处理，最后返回一个完整的消息。\n",
    "    async def _act(self) -> Message:\n",
    "        logger.info(f\"{self._setting}: to do {self.rc.todo}({self.rc.todo.name})\")\n",
    "        todo = self.rc.todo  # todo will be SimpleWriteCode()  \n",
    "\n",
    "        msg = self.get_memories(k=1)[0]  # find the most recent messages\n",
    "        code_text = await todo.run(msg.content)\n",
    "        msg = Message(content=code_text, role=self.profile, cause_by=type(todo))\n",
    "\n",
    "        return msg\n"
   ]
  },
  {
   "cell_type": "markdown",
   "metadata": {},
   "source": [
    "## 运行角色"
   ]
  },
  {
   "cell_type": "code",
   "execution_count": null,
   "metadata": {},
   "outputs": [],
   "source": [
    "import asyncio\n",
    "\n",
    "from metagpt.context import Context\n",
    "\n",
    "async def main():\n",
    "    msg = \"write a function that calculates the sum of a list\"\n",
    "    context = Context()\n",
    "    role = SimpleCoder(context=context)\n",
    "    logger.info(msg)\n",
    "    result = await role.run(msg)\n",
    "    logger.info(result)\n",
    "\n",
    "await main()\n",
    "\n",
    "\n",
    "# asyncio.run(main) # if .py file"
   ]
  },
  {
   "cell_type": "markdown",
   "metadata": {},
   "source": [
    "# 具有多个动作的智能体\n",
    "我们注意到一个智能体能够执行一个动作，但如果只有这些，实际上我们并不需要一个智能体。通过直接运行动作本身，我们可以得到相同的结果。智能体的力量，或者说Role抽象的惊人之处，在于动作的组合（以及其他组件，比如记忆，但我们将把它们留到后面的部分）。通过连接动作，我们可以构建一个工作流程，使智能体能够完成更复杂的任务。\n",
    "\n",
    "假设现在我们不仅希望用自然语言编写代码，而且还希望生成的代码立即执行。一个拥有多个动作的智能体可以满足我们的需求。让我们称之为RunnableCoder，一个既写代码又立即运行的Role。我们需要两个Action：SimpleWriteCode 和 SimpleRunCode"
   ]
  },
  {
   "cell_type": "markdown",
   "metadata": {},
   "source": [
    "## 定义动作"
   ]
  },
  {
   "cell_type": "code",
   "execution_count": 21,
   "metadata": {},
   "outputs": [],
   "source": [
    "# 定义两个动作，其中SimpleWriteCode 就是复用上面的动作\n",
    "\n",
    "class SimpleWriteCode(Action):\n",
    "\n",
    "    # 使用 PROMPT_TEMPLATE 来定义一个动作，这个动作是一个函数，这个函数会调用 LLM api，并且返回一个字符串。\n",
    "    PROMPT_TEMPLATE: str = \"\"\"\n",
    "    Write a python function that can {instruction} and provide two runnnable test cases.\n",
    "    Return ```python your_code_here ``` with NO other texts,\n",
    "    your code:\n",
    "    \"\"\"\n",
    "\n",
    "    name: str = \"SimpleWriteCode\"\n",
    "\n",
    "    async def run(self, instruction: str):\n",
    "        prompt = self.PROMPT_TEMPLATE.format(instruction=instruction)\n",
    "\n",
    "        rsp = await self._aask(prompt)\n",
    "\n",
    "        code_text = SimpleWriteCode.parse_code(rsp)\n",
    "\n",
    "        return code_text\n",
    "\n",
    "    @staticmethod\n",
    "    def parse_code(rsp):\n",
    "        pattern = r\"```python(.*)```\"\n",
    "        match = re.search(pattern, rsp, re.DOTALL)\n",
    "        code_text = match.group(1) if match else rsp\n",
    "        return code_text\n",
    "\n",
    "\n",
    "\n",
    "\n",
    "\n",
    "class SimpleRunCode(Action):\n",
    "    name: str = \"SimpleRunCode\"\n",
    "\n",
    "    async def run(self, code_text: str):\n",
    "        \n",
    "        # 从概念上讲，一个动作可以利用LLM，也可以在没有LLM的情况下运行。在SimpleRunCode的情况下，LLM不涉及其中。我们只需启动一个子进程来运行代码并获取结果。我们希望展示的是，对于动作逻辑的结构，我们没有设定任何限制，用户可以根据需要完全灵活地设计逻辑。\n",
    "        result = subprocess.run([\"python\", \"-c\", code_text], capture_output=True, text=True)\n",
    "        code_result = result.stdout\n",
    "        logger.info(f\"{code_result=}\")\n",
    "        return code_result"
   ]
  },
  {
   "cell_type": "markdown",
   "metadata": {},
   "source": [
    "## 定义角色"
   ]
  },
  {
   "cell_type": "code",
   "execution_count": 22,
   "metadata": {},
   "outputs": [],
   "source": [
    "class RunnableCoder(Role):\n",
    "    name: str = \"Alice\"\n",
    "    profile: str = \"RunnableCoder\"\n",
    "\n",
    "    def __init__(self, **kwargs):\n",
    "        super().__init__(**kwargs)\n",
    "        #  初始化动作\n",
    "        self.set_actions([SimpleWriteCode, SimpleRunCode])\n",
    "        # 指定每次 Role 会选择哪个 Action。我们将 react_mode 设置为 \"by_order\"，这意味着 Role 将按照 self.set_actions 中指定的顺序执行其能够执行的 Action\n",
    "        self._set_react_mode(react_mode=\"by_order\")\n",
    "\n",
    "    async def _act(self) -> Message:\n",
    "        logger.info(f\"{self._setting}: to do {self.rc.todo}({self.rc.todo.name})\")\n",
    "        # By choosing the Action by order under the hood\n",
    "        # todo will be first SimpleWriteCode() then SimpleRunCode()\n",
    "        todo = self.rc.todo\n",
    "\n",
    "        msg = self.get_memories(k=1)[0]  # find the most k recent messages\n",
    "        result = await todo.run(msg.content)\n",
    "\n",
    "        msg = Message(content=result, role=self.profile, cause_by=type(todo))\n",
    "        self.rc.memory.add(msg)\n",
    "        return msg"
   ]
  },
  {
   "cell_type": "markdown",
   "metadata": {},
   "source": [
    "## 运行角色"
   ]
  },
  {
   "cell_type": "code",
   "execution_count": 23,
   "metadata": {},
   "outputs": [
    {
     "name": "stderr",
     "output_type": "stream",
     "text": [
      "2025-02-21 00:14:29.668 | INFO     | __main__:main:9 - write a function that calculates the sum of a list\n",
      "2025-02-21 00:14:29.670 | INFO     | __main__:_act:13 - Alice(RunnableCoder): to do SimpleWriteCode(SimpleWriteCode)\n"
     ]
    },
    {
     "name": "stdout",
     "output_type": "stream",
     "text": [
      "```python\n",
      "def calculate_sum(numbers):\n",
      "    return sum(numbers)\n",
      "\n",
      "# Test cases\n",
      "def test_case_1():\n",
      "    assert calculate_sum([1, 2, 3, 4, 5]) == 15\n",
      "\n",
      "def test_case_2():\n",
      "    assert calculate_sum([10, -5, 3, 2]) =="
     ]
    },
    {
     "name": "stderr",
     "output_type": "stream",
     "text": [
      "2025-02-21 00:14:32.814 | WARNING  | metagpt.utils.cost_manager:update_cost:49 - Model glm-4-flash not found in TOKEN_COSTS.\n",
      "2025-02-21 00:14:32.816 | INFO     | __main__:_act:13 - Alice(RunnableCoder): to do SimpleRunCode(SimpleRunCode)\n"
     ]
    },
    {
     "name": "stdout",
     "output_type": "stream",
     "text": [
      " 10\n",
      "```\n"
     ]
    },
    {
     "name": "stderr",
     "output_type": "stream",
     "text": [
      "2025-02-21 00:14:32.908 | INFO     | __main__:run:42 - code_result=''\n",
      "2025-02-21 00:14:32.910 | INFO     | __main__:main:11 - RunnableCoder: \n"
     ]
    }
   ],
   "source": [
    "import asyncio\n",
    "\n",
    "from metagpt.context import Context\n",
    "\n",
    "async def main():\n",
    "    msg = \"write a function that calculates the sum of a list\"\n",
    "    context = Context()\n",
    "    role = RunnableCoder(context=context)\n",
    "    logger.info(msg)\n",
    "    result = await role.run(msg)\n",
    "    logger.info(result)\n",
    "\n",
    "await main()\n",
    "# asyncio.run(main) # if .py file, use this line"
   ]
  }
 ],
 "metadata": {
  "kernelspec": {
   "display_name": "metagpt",
   "language": "python",
   "name": "python3"
  },
  "language_info": {
   "codemirror_mode": {
    "name": "ipython",
    "version": 3
   },
   "file_extension": ".py",
   "mimetype": "text/x-python",
   "name": "python",
   "nbconvert_exporter": "python",
   "pygments_lexer": "ipython3",
   "version": "3.10.16"
  }
 },
 "nbformat": 4,
 "nbformat_minor": 2
}
