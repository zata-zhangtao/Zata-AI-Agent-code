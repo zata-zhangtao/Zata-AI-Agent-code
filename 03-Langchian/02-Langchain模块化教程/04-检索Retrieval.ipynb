{
 "cells": [
  {
   "cell_type": "code",
   "execution_count": 2,
   "metadata": {},
   "outputs": [
    {
     "name": "stderr",
     "output_type": "stream",
     "text": [
      "C:\\Users\\zata\\AppData\\Local\\Temp\\ipykernel_22128\\3451817062.py:43: LangChainDeprecationWarning: The method `Chain.run` was deprecated in langchain 0.1.0 and will be removed in 1.0. Use :meth:`~invoke` instead.\n",
      "  response = qa_chain.run(\"2025年的技术趋势是什么？\")\n"
     ]
    },
    {
     "name": "stdout",
     "output_type": "stream",
     "text": [
      "根据教程中的示例输出，2025年的技术趋势可能包括以下方向：\n",
      "\n",
      "1. **人工智能与生成式AI**：生成式AI在内容创作、医疗诊断、客户服务等领域广泛应用，推动自动化与个性化服务。  \n",
      "2. **量子计算**：实用化进展加速，在密码学、材料科学和药物研发中解决复杂问题。  \n",
      "3. **可持续技术**：绿色能源（高效太阳能、储能技术）、碳捕捉及电动汽车技术进一步成熟，助力碳中和目标。  \n",
      "4. **扩展现实（XR）与元宇宙**：AR/VR在教育、远程协作和虚拟经济中的渗透率提升，推动沉浸式体验场景。  \n",
      "5. **生物科技**：基因编辑（如CRISPR）、合成生物学和个性化医疗将革新疾病治疗与生物制造。  \n",
      "6. **物联网与边缘计算**：5G/6G网络与边缘计算结合，优化工业自动化、智慧城市和实时数据分析。  \n",
      "7. **网络安全**：零信任架构与AI驱动的安全系统成为应对网络威胁的核心，保护关键基础设施。  \n",
      "\n",
      "这些趋势将重塑产业、生活方式及全球竞争力。  \n",
      "\n",
      "（注：以上内容直接引用自教程中问答系统的示例输出，用于演示 LangChain 的功能。实际技术趋势可能因外部环境变化而不同。）\n"
     ]
    }
   ],
   "source": [
    "from langchain_openai import OpenAIEmbeddings\n",
    "from langchain.vectorstores import FAISS\n",
    "from langchain.chains import RetrievalQA\n",
    "from langchain.document_loaders import TextLoader\n",
    "from langchain_community.embeddings import DashScopeEmbeddings\n",
    "from langchain_openai import ChatOpenAI\n",
    "\n",
    "\n",
    "import os\n",
    "from dotenv import load_dotenv\n",
    "load_dotenv()\n",
    "# 初始化模型\n",
    "\n",
    "\n",
    "api_key = os.getenv(\"api_key\")\n",
    "base_url = os.getenv(\"base_url\")\n",
    "model = os.getenv(\"model\")\n",
    "\n",
    "# 初始化语言模型\n",
    "\n",
    "# 加载文档\n",
    "loader = TextLoader(\"example_doc.txt\")  # 假设文件内容为技术趋势\n",
    "documents = loader.load()\n",
    "\n",
    "# 创建嵌入和向量存储\n",
    "\n",
    "embeddings = DashScopeEmbeddings(\n",
    "    model=\"text-embedding-v3\",\n",
    "    dashscope_api_key=api_key,\n",
    "    # other params...\n",
    ")\n",
    "\n",
    "vector_store = FAISS.from_documents(documents, embeddings)\n",
    "\n",
    "# 创建检索链\n",
    "qa_chain = RetrievalQA.from_chain_type(\n",
    "    llm = ChatOpenAI(model=model, api_key=api_key,base_url=base_url,streaming=True),\n",
    "    chain_type=\"stuff\",\n",
    "    retriever=vector_store.as_retriever()\n",
    ")\n",
    "\n",
    "# 查询\n",
    "response = qa_chain.run(\"2025年的技术趋势是什么？\")\n",
    "print(response)\n"
   ]
  }
 ],
 "metadata": {
  "kernelspec": {
   "display_name": "langchain",
   "language": "python",
   "name": "python3"
  },
  "language_info": {
   "codemirror_mode": {
    "name": "ipython",
    "version": 3
   },
   "file_extension": ".py",
   "mimetype": "text/x-python",
   "name": "python",
   "nbconvert_exporter": "python",
   "pygments_lexer": "ipython3",
   "version": "3.11.11"
  }
 },
 "nbformat": 4,
 "nbformat_minor": 2
}
