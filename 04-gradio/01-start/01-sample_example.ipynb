{
 "cells": [
  {
   "cell_type": "markdown",
   "metadata": {},
   "source": [
    "# 基本示例"
   ]
  },
  {
   "cell_type": "code",
   "execution_count": 1,
   "metadata": {},
   "outputs": [
    {
     "name": "stderr",
     "output_type": "stream",
     "text": [
      "c:\\Users\\zata\\.conda\\envs\\Upick\\lib\\site-packages\\tqdm\\auto.py:21: TqdmWarning: IProgress not found. Please update jupyter and ipywidgets. See https://ipywidgets.readthedocs.io/en/stable/user_install.html\n",
      "  from .autonotebook import tqdm as notebook_tqdm\n"
     ]
    },
    {
     "name": "stdout",
     "output_type": "stream",
     "text": [
      "* Running on local URL:  http://127.0.0.1:7862\n",
      "\n",
      "To create a public link, set `share=True` in `launch()`.\n"
     ]
    },
    {
     "data": {
      "text/html": [
       "<div><iframe src=\"http://127.0.0.1:7862/\" width=\"100%\" height=\"500\" allow=\"autoplay; camera; microphone; clipboard-read; clipboard-write;\" frameborder=\"0\" allowfullscreen></iframe></div>"
      ],
      "text/plain": [
       "<IPython.core.display.HTML object>"
      ]
     },
     "metadata": {},
     "output_type": "display_data"
    },
    {
     "data": {
      "text/plain": []
     },
     "execution_count": 1,
     "metadata": {},
     "output_type": "execute_result"
    },
    {
     "name": "stdout",
     "output_type": "stream",
     "text": [
      "Created dataset file at: .gradio\\flagged\\dataset1.csv\n"
     ]
    }
   ],
   "source": [
    "import gradio as gr\n",
    "#输入文本处理程序\n",
    "def greet(name):\n",
    "    return \"Hello \" + name + \"!\"\n",
    "#接口创建函数\n",
    "#fn设置处理函数，inputs设置输入接口组件，outputs设置输出接口组件\n",
    "#fn,inputs,outputs都是必填函数\n",
    "demo = gr.Interface(fn=greet, inputs=\"text\", outputs=\"text\")\n",
    "demo.launch()"
   ]
  },
  {
   "cell_type": "markdown",
   "metadata": {},
   "source": [
    "# 处理多种输入"
   ]
  },
  {
   "cell_type": "code",
   "execution_count": 2,
   "metadata": {},
   "outputs": [
    {
     "name": "stdout",
     "output_type": "stream",
     "text": [
      "* Running on local URL:  http://127.0.0.1:7861\n",
      "\n",
      "To create a public link, set `share=True` in `launch()`.\n"
     ]
    },
    {
     "data": {
      "text/html": [
       "<div><iframe src=\"http://127.0.0.1:7861/\" width=\"100%\" height=\"500\" allow=\"autoplay; camera; microphone; clipboard-read; clipboard-write;\" frameborder=\"0\" allowfullscreen></iframe></div>"
      ],
      "text/plain": [
       "<IPython.core.display.HTML object>"
      ]
     },
     "metadata": {},
     "output_type": "display_data"
    },
    {
     "data": {
      "text/plain": []
     },
     "execution_count": 2,
     "metadata": {},
     "output_type": "execute_result"
    }
   ],
   "source": [
    "import gradio as gr\n",
    "\n",
    "def greet(name, age):\n",
    "    return f\"你好，{name}！今年你{age}岁了，真棒！\"\n",
    "\n",
    "interface = gr.Interface(\n",
    "    fn=greet,\n",
    "    inputs=[\"text\", \"number\"],  # 多个输入\n",
    "    outputs=\"text\",\n",
    "    title=\"个性化问候生成器\",  # 添加标题\n",
    "    description=\"输入你的名字和年龄，获取问候语！\"  # 添加描述\n",
    ")\n",
    "\n",
    "interface.launch()\n"
   ]
  },
  {
   "cell_type": "markdown",
   "metadata": {},
   "source": [
    "# 处理图片输入和输出"
   ]
  },
  {
   "cell_type": "code",
   "execution_count": 3,
   "metadata": {},
   "outputs": [
    {
     "name": "stdout",
     "output_type": "stream",
     "text": [
      "* Running on local URL:  http://127.0.0.1:7863\n",
      "\n",
      "To create a public link, set `share=True` in `launch()`.\n"
     ]
    },
    {
     "data": {
      "text/html": [
       "<div><iframe src=\"http://127.0.0.1:7863/\" width=\"100%\" height=\"500\" allow=\"autoplay; camera; microphone; clipboard-read; clipboard-write;\" frameborder=\"0\" allowfullscreen></iframe></div>"
      ],
      "text/plain": [
       "<IPython.core.display.HTML object>"
      ]
     },
     "metadata": {},
     "output_type": "display_data"
    },
    {
     "data": {
      "text/plain": []
     },
     "execution_count": 3,
     "metadata": {},
     "output_type": "execute_result"
    }
   ],
   "source": [
    "import gradio as gr\n",
    "from PIL import Image\n",
    "\n",
    "def grayscale_image(image):\n",
    "    return image.convert(\"L\")  # 转换为灰度图\n",
    "\n",
    "interface = gr.Interface(\n",
    "    fn=grayscale_image,\n",
    "    inputs=\"image\",  # 上传图片\n",
    "    outputs=\"image\",  # 输出图片\n",
    "    title=\"图片灰度转换器\"\n",
    ")\n",
    "\n",
    "interface.launch()\n"
   ]
  },
  {
   "cell_type": "markdown",
   "metadata": {},
   "source": [
    "# 自定义界面布局"
   ]
  },
  {
   "cell_type": "code",
   "execution_count": null,
   "metadata": {},
   "outputs": [
    {
     "name": "stdout",
     "output_type": "stream",
     "text": [
      "* Running on local URL:  http://127.0.0.1:7867\n",
      "* Running on public URL: https://788b7745628dca6940.gradio.live\n",
      "\n",
      "This share link expires in 72 hours. For free permanent hosting and GPU upgrades, run `gradio deploy` from the terminal in the working directory to deploy to Hugging Face Spaces (https://huggingface.co/spaces)\n"
     ]
    },
    {
     "data": {
      "text/html": [
       "<div><iframe src=\"https://788b7745628dca6940.gradio.live\" width=\"100%\" height=\"500\" allow=\"autoplay; camera; microphone; clipboard-read; clipboard-write;\" frameborder=\"0\" allowfullscreen></iframe></div>"
      ],
      "text/plain": [
       "<IPython.core.display.HTML object>"
      ]
     },
     "metadata": {},
     "output_type": "display_data"
    },
    {
     "data": {
      "text/plain": []
     },
     "execution_count": 7,
     "metadata": {},
     "output_type": "execute_result"
    }
   ],
   "source": [
    "import gradio as gr\n",
    "\n",
    "def greet(name):\n",
    "    return f\"你好，{name}！\"\n",
    "\n",
    "with gr.Blocks(title=\"自定义问候界面\") as demo:\n",
    "    gr.Markdown(\"## 输入你的名字\")\n",
    "    name_input = gr.Textbox(label=\"名字\")\n",
    "    output = gr.Textbox(label=\"结果\")\n",
    "    button = gr.Button(\"提交\")\n",
    "    button.click(fn=greet, inputs=name_input, outputs=output)\n",
    "\n",
    "demo.launch(share=True) # 分享到公网\n"
   ]
  },
  {
   "cell_type": "markdown",
   "metadata": {},
   "source": [
    "# 完整示例：带图片和文本的复杂界面"
   ]
  },
  {
   "cell_type": "code",
   "execution_count": 8,
   "metadata": {},
   "outputs": [
    {
     "name": "stdout",
     "output_type": "stream",
     "text": [
      "* Running on local URL:  http://127.0.0.1:7868\n",
      "* Running on public URL: https://69e49aedecee87072b.gradio.live\n",
      "\n",
      "This share link expires in 72 hours. For free permanent hosting and GPU upgrades, run `gradio deploy` from the terminal in the working directory to deploy to Hugging Face Spaces (https://huggingface.co/spaces)\n"
     ]
    },
    {
     "data": {
      "text/html": [
       "<div><iframe src=\"https://69e49aedecee87072b.gradio.live\" width=\"100%\" height=\"500\" allow=\"autoplay; camera; microphone; clipboard-read; clipboard-write;\" frameborder=\"0\" allowfullscreen></iframe></div>"
      ],
      "text/plain": [
       "<IPython.core.display.HTML object>"
      ]
     },
     "metadata": {},
     "output_type": "display_data"
    },
    {
     "data": {
      "text/plain": []
     },
     "execution_count": 8,
     "metadata": {},
     "output_type": "execute_result"
    }
   ],
   "source": [
    "import gradio as gr\n",
    "from PIL import Image\n",
    "\n",
    "def process_input(name, image):\n",
    "    grayscale_img = image.convert(\"L\")\n",
    "    message = f\"你好，{name}！这是你的灰度图片。\"\n",
    "    return grayscale_img, message\n",
    "\n",
    "interface = gr.Interface(\n",
    "    fn=process_input,\n",
    "    inputs=[\"text\", \"image\"],\n",
    "    outputs=[\"image\", \"text\"],\n",
    "    title=\"图片和文本处理\",\n",
    "    description=\"输入名字并上传图片，获取灰度图和问候语。\"\n",
    ")\n",
    "\n",
    "interface.launch(share=True)\n"
   ]
  },
  {
   "cell_type": "markdown",
   "metadata": {},
   "source": [
    "# 带有tab的界面"
   ]
  },
  {
   "cell_type": "code",
   "execution_count": 9,
   "metadata": {},
   "outputs": [
    {
     "name": "stdout",
     "output_type": "stream",
     "text": [
      "* Running on local URL:  http://127.0.0.1:7869\n",
      "\n",
      "To create a public link, set `share=True` in `launch()`.\n"
     ]
    },
    {
     "data": {
      "text/html": [
       "<div><iframe src=\"http://127.0.0.1:7869/\" width=\"100%\" height=\"500\" allow=\"autoplay; camera; microphone; clipboard-read; clipboard-write;\" frameborder=\"0\" allowfullscreen></iframe></div>"
      ],
      "text/plain": [
       "<IPython.core.display.HTML object>"
      ]
     },
     "metadata": {},
     "output_type": "display_data"
    },
    {
     "data": {
      "text/plain": []
     },
     "execution_count": 9,
     "metadata": {},
     "output_type": "execute_result"
    }
   ],
   "source": [
    "import gradio as gr\n",
    "\n",
    "# 定义两个简单的函数，分别用于不同的选项卡\n",
    "def greet(name):\n",
    "    return f\"你好，{name}！\"\n",
    "\n",
    "def farewell(name):\n",
    "    return f\"再见，{name}！\"\n",
    "\n",
    "# 使用 Blocks 创建界面\n",
    "with gr.Blocks() as demo:\n",
    "    # 创建 Tabs 容器\n",
    "    with gr.Tabs():\n",
    "        # 第一个选项卡：打招呼\n",
    "        with gr.TabItem(\"打招呼\"):\n",
    "            name_input_1 = gr.Textbox(label=\"输入你的名字\")\n",
    "            greet_output = gr.Textbox(label=\"输出\")\n",
    "            greet_button = gr.Button(\"提交\")\n",
    "            greet_button.click(fn=greet, inputs=name_input_1, outputs=greet_output)\n",
    "\n",
    "        # 第二个选项卡：告别\n",
    "        with gr.TabItem(\"告别\"):\n",
    "            name_input_2 = gr.Textbox(label=\"输入你的名字\")\n",
    "            farewell_output = gr.Textbox(label=\"输出\")\n",
    "            farewell_button = gr.Button(\"提交\")\n",
    "            farewell_button.click(fn=farewell, inputs=name_input_2, outputs=farewell_output)\n",
    "\n",
    "# 启动应用\n",
    "demo.launch()"
   ]
  },
  {
   "cell_type": "markdown",
   "metadata": {},
   "source": [
    "# 使用 gr.TabbedInterface 组合多个界面"
   ]
  },
  {
   "cell_type": "code",
   "execution_count": 10,
   "metadata": {},
   "outputs": [
    {
     "name": "stdout",
     "output_type": "stream",
     "text": [
      "* Running on local URL:  http://127.0.0.1:7870\n",
      "\n",
      "To create a public link, set `share=True` in `launch()`.\n"
     ]
    },
    {
     "data": {
      "text/html": [
       "<div><iframe src=\"http://127.0.0.1:7870/\" width=\"100%\" height=\"500\" allow=\"autoplay; camera; microphone; clipboard-read; clipboard-write;\" frameborder=\"0\" allowfullscreen></iframe></div>"
      ],
      "text/plain": [
       "<IPython.core.display.HTML object>"
      ]
     },
     "metadata": {},
     "output_type": "display_data"
    },
    {
     "data": {
      "text/plain": []
     },
     "execution_count": 10,
     "metadata": {},
     "output_type": "execute_result"
    }
   ],
   "source": [
    "import gradio as gr\n",
    "\n",
    "# 定义两个函数\n",
    "def greet(name):\n",
    "    return f\"你好，{name}！\"\n",
    "\n",
    "def farewell(name):\n",
    "    return f\"再见，{name}！\"\n",
    "\n",
    "# 创建两个独立的 Interface\n",
    "interface1 = gr.Interface(fn=greet, inputs=\"text\", outputs=\"text\", title=\"打招呼\")\n",
    "interface2 = gr.Interface(fn=farewell, inputs=\"text\", outputs=\"text\", title=\"告别\")\n",
    "\n",
    "# 使用 TabbedInterface 组合\n",
    "demo = gr.TabbedInterface(\n",
    "    [interface1, interface2],  # 接口列表\n",
    "    [\"打招呼\", \"告别\"]        # 选项卡名称列表\n",
    ")\n",
    "\n",
    "# 启动应用\n",
    "demo.launch()"
   ]
  },
  {
   "cell_type": "markdown",
   "metadata": {},
   "source": [
    "# 高级布局：结合 Row 和 Column"
   ]
  },
  {
   "cell_type": "code",
   "execution_count": 11,
   "metadata": {},
   "outputs": [
    {
     "name": "stdout",
     "output_type": "stream",
     "text": [
      "* Running on local URL:  http://127.0.0.1:7871\n",
      "\n",
      "To create a public link, set `share=True` in `launch()`.\n"
     ]
    },
    {
     "data": {
      "text/html": [
       "<div><iframe src=\"http://127.0.0.1:7871/\" width=\"100%\" height=\"500\" allow=\"autoplay; camera; microphone; clipboard-read; clipboard-write;\" frameborder=\"0\" allowfullscreen></iframe></div>"
      ],
      "text/plain": [
       "<IPython.core.display.HTML object>"
      ]
     },
     "metadata": {},
     "output_type": "display_data"
    },
    {
     "data": {
      "text/plain": []
     },
     "execution_count": 11,
     "metadata": {},
     "output_type": "execute_result"
    }
   ],
   "source": [
    "import gradio as gr\n",
    "import numpy as np\n",
    "\n",
    "# 定义翻转文本和图片的函数\n",
    "def flip_text(text):\n",
    "    return text[::-1]\n",
    "\n",
    "def flip_image(image):\n",
    "    return np.fliplr(image)\n",
    "\n",
    "# 使用 Blocks 创建界面\n",
    "with gr.Blocks(title=\"翻转工具\") as demo:\n",
    "    gr.Markdown(\"### 欢迎使用翻转工具\")\n",
    "    with gr.Tabs():\n",
    "        # 文本翻转选项卡\n",
    "        with gr.TabItem(\"翻转文本\"):\n",
    "            with gr.Row():\n",
    "                text_input = gr.Textbox(label=\"输入文本\")\n",
    "                text_output = gr.Textbox(label=\"输出文本\")\n",
    "            text_button = gr.Button(\"翻转\")\n",
    "            text_button.click(fn=flip_text, inputs=text_input, outputs=text_output)\n",
    "\n",
    "        # 图片翻转选项卡\n",
    "        with gr.TabItem(\"翻转图片\"):\n",
    "            with gr.Row():\n",
    "                image_input = gr.Image(label=\"上传图片\", type=\"numpy\")\n",
    "                image_output = gr.Image(label=\"输出图片\")\n",
    "            image_button = gr.Button(\"翻转\")\n",
    "            image_button.click(fn=flip_image, inputs=image_input, outputs=image_output)\n",
    "\n",
    "# 启动应用\n",
    "demo.launch()"
   ]
  },
  {
   "cell_type": "markdown",
   "metadata": {},
   "source": [
    "# 获取当前选中的 Tab（可选）"
   ]
  },
  {
   "cell_type": "code",
   "execution_count": 2,
   "metadata": {},
   "outputs": [
    {
     "name": "stdout",
     "output_type": "stream",
     "text": [
      "* Running on local URL:  http://127.0.0.1:7862\n",
      "\n",
      "To create a public link, set `share=True` in `launch()`.\n"
     ]
    },
    {
     "data": {
      "text/html": [
       "<div><iframe src=\"http://127.0.0.1:7862/\" width=\"100%\" height=\"500\" allow=\"autoplay; camera; microphone; clipboard-read; clipboard-write;\" frameborder=\"0\" allowfullscreen></iframe></div>"
      ],
      "text/plain": [
       "<IPython.core.display.HTML object>"
      ]
     },
     "metadata": {},
     "output_type": "display_data"
    },
    {
     "data": {
      "text/plain": []
     },
     "execution_count": 2,
     "metadata": {},
     "output_type": "execute_result"
    }
   ],
   "source": [
    "import gradio as gr\n",
    "\n",
    "def process_tab1(text):\n",
    "    return f\"Tab1 处理: {text}\"\n",
    "\n",
    "def process_tab2(text):\n",
    "    return f\"Tab2 处理: {text}\"\n",
    "\n",
    "with gr.Blocks() as demo:\n",
    "    with gr.Tabs():\n",
    "        with gr.TabItem(\"Tab1\"):\n",
    "            input1 = gr.Textbox(label=\"输入\")\n",
    "            output1 = gr.Textbox(label=\"输出\")\n",
    "            btn1 = gr.Button(\"处理\")\n",
    "            btn1.click(fn=process_tab1, inputs=input1, outputs=output1)\n",
    "        \n",
    "        with gr.TabItem(\"Tab2\"):\n",
    "            input2 = gr.Textbox(label=\"输入\")\n",
    "            output2 = gr.Textbox(label=\"输出\")\n",
    "            btn2 = gr.Button(\"处理\")\n",
    "            btn2.click(fn=process_tab2, inputs=input2, outputs=output2)\n",
    "\n",
    "demo.launch()"
   ]
  },
  {
   "cell_type": "markdown",
   "metadata": {},
   "source": []
  }
 ],
 "metadata": {
  "kernelspec": {
   "display_name": "Upick",
   "language": "python",
   "name": "python3"
  },
  "language_info": {
   "codemirror_mode": {
    "name": "ipython",
    "version": 3
   },
   "file_extension": ".py",
   "mimetype": "text/x-python",
   "name": "python",
   "nbconvert_exporter": "python",
   "pygments_lexer": "ipython3",
   "version": "3.10.16"
  }
 },
 "nbformat": 4,
 "nbformat_minor": 2
}
